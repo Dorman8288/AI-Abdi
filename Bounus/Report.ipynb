{
 "cells": [
  {
   "cell_type": "markdown",
   "metadata": {},
   "source": [
    "<h1>Developing Inteligent Agents With Minimax In Othello</h1>\n",
    "\n",
    "in this project we are using minimax algorithm to develop an offline bot for playing othello.\n",
    "all of the game logic is implemented in Game.py and interacts with the Agents via a simple interface for perserving gamestates.\n",
    "\n",
    "<h3>Minimax Implementation Challenges</h3>\n",
    "\n",
    "there are several challenges regarding implementing search algorithms in problems with big branch factors. one of them is the big search space required to be explored until we reach a decision. we did the following to compensate this issues:\n",
    "\n",
    "<ul>\n",
    "    <li>limiting the depth that minimax searchs</li>\n",
    "    <li>using alpha beta pruning to reduce the size of search tree</li>\n",
    "    <li>ordering nodes in terms of promise for maximum pruning</li>\n",
    "</ul>"
   ]
  }
 ],
 "metadata": {
  "language_info": {
   "name": "python"
  }
 },
 "nbformat": 4,
 "nbformat_minor": 2
}
